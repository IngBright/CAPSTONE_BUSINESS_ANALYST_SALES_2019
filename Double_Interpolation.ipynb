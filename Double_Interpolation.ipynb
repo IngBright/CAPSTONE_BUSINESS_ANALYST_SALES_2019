{
  "nbformat": 4,
  "nbformat_minor": 0,
  "metadata": {
    "colab": {
      "provenance": [],
      "authorship_tag": "ABX9TyNzRXh3c5kh+EGLbKd3Azda",
      "include_colab_link": true
    },
    "kernelspec": {
      "name": "python3",
      "display_name": "Python 3"
    },
    "language_info": {
      "name": "python"
    }
  },
  "cells": [
    {
      "cell_type": "markdown",
      "metadata": {
        "id": "view-in-github",
        "colab_type": "text"
      },
      "source": [
        "<a href=\"https://colab.research.google.com/github/IngBright/CAPSTONE_BUSINESS_ANALYST_SALES_2019/blob/main/Double_Interpolation.ipynb\" target=\"_parent\"><img src=\"https://colab.research.google.com/assets/colab-badge.svg\" alt=\"Open In Colab\"/></a>"
      ]
    },
    {
      "cell_type": "code",
      "source": [
        "def bilinear_interpolation(trim1, trim2, lower_volume, upper_volume, fQ11, fQ12, fQ21, fQ22, trim, volume):\n",
        "    # Calculate the interpolated value\n",
        "    return (fQ11 * (trim2 - trim) * (upper_volume - volume) +\n",
        "            fQ21 * (trim - trim1) * (upper_volume - volume) +\n",
        "            fQ12 * (trim2 - trim) * (volume - lower_volume) +\n",
        "            fQ22 * (trim - trim1) * (volume - lower_volume)) / ((trim2 - trim1) * (upper_volume - lower_volume))\n",
        "\n",
        "# Input the grid points (trim1, trim2, lower_volume, upper_volume)\n",
        "trim1 = float(input(\"Enter Trim 1: \"))\n",
        "trim2 = float(input(\"Enter Trim 2: \"))\n",
        "lower_volume = float(input(\"Enter Lower Volume: \"))\n",
        "upper_volume = float(input(\"Enter Upper Volume: \"))\n",
        "\n",
        "# Input the function values at the grid points\n",
        "fQ11 = float(input(f\"Enter the function value at (trim1, lower_volume) [f({trim1}, {lower_volume})]: \"))\n",
        "fQ12 = float(input(f\"Enter the function value at (trim1, upper_volume) [f({trim1}, {upper_volume})]: \"))\n",
        "fQ21 = float(input(f\"Enter the function value at (trim2, lower_volume) [f({trim2}, {lower_volume})]: \"))\n",
        "fQ22 = float(input(f\"Enter the function value at (trim2, upper_volume) [f({trim2}, {upper_volume})]: \"))\n",
        "\n",
        "# Input the trim and volume values where interpolation is needed\n",
        "trim = float(input(\"Enter the trim value for interpolation: \"))\n",
        "volume = float(input(\"Enter the volume value for interpolation: \"))\n",
        "\n",
        "# Perform the interpolation and display the result\n",
        "try:\n",
        "    interpolated_value = bilinear_interpolation(trim1, trim2, lower_volume, upper_volume, fQ11, fQ12, fQ21, fQ22, trim, volume)\n",
        "    print(f\"\\nThe interpolated value at (trim={trim}, volume={volume}) is: {interpolated_value:.6f}\")\n",
        "except ValueError as e:\n",
        "    print(e)\n"
      ],
      "metadata": {
        "colab": {
          "base_uri": "https://localhost:8080/"
        },
        "id": "6_FJJPdHMyr_",
        "outputId": "61f055f3-9047-4fe2-d20a-b410edf2ef03"
      },
      "execution_count": 3,
      "outputs": [
        {
          "output_type": "stream",
          "name": "stdout",
          "text": [
            "Enter Trim 1: 4.0\n",
            "Enter Trim 2: 5.0\n",
            "Enter Lower Volume: 28.00\n",
            "Enter Upper Volume: 30.00\n",
            "Enter the function value at (trim1, lower_volume) [f(4.0, 28.0)]: 23.7\n",
            "Enter the function value at (trim1, upper_volume) [f(4.0, 30.0)]: 20.4\n",
            "Enter the function value at (trim2, lower_volume) [f(5.0, 28.0)]: 29.7\n",
            "Enter the function value at (trim2, upper_volume) [f(5.0, 30.0)]: 25.6\n",
            "Enter the trim value for interpolation: 4.30\n",
            "Enter the volume value for interpolation: 28.80\n",
            "\n",
            "The interpolated value at (trim=4.3, volume=28.8) is: 24.084000\n"
          ]
        }
      ]
    }
  ]
}